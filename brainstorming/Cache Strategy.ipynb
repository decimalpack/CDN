{
 "cells": [
  {
   "cell_type": "code",
   "execution_count": 188,
   "metadata": {},
   "outputs": [],
   "source": [
    "import random\n",
    "import csv\n",
    "from typing import Optional\n",
    "import cachetools\n",
    "from math import inf\n",
    "from functools import partial\n",
    "from ortools.algorithms import pywrapknapsack_solver\n",
    "\n",
    "random.seed(42)\n",
    "\n",
    "RAM_SIZE = 20 * 1024 * 1024 \n",
    "DISK_SIZE = 20 * 1024 * 1024 - int(0.5 * 1024 * 1024)"
   ]
  },
  {
   "cell_type": "code",
   "execution_count": 189,
   "metadata": {},
   "outputs": [],
   "source": [
    "page_views={}\n",
    "with open(\"pageviews.csv\", \"r\") as f:\n",
    "    reader = csv.DictReader(f)\n",
    "    for line in reader:\n",
    "        page_views[line[\"article\"].replace(\" \",\"_\")] = int(line[\"views\"])"
   ]
  },
  {
   "cell_type": "code",
   "execution_count": 190,
   "metadata": {},
   "outputs": [
    {
     "name": "stdout",
     "output_type": "stream",
     "text": [
      "Total = 502102865 bytes\n"
     ]
    }
   ],
   "source": [
    "page_sizes = {}\n",
    "with open(\"page_sizes.csv\",\"r\") as f:\n",
    "    reader = csv.DictReader(f)\n",
    "    for line in reader:\n",
    "        page_sizes[line[\"Page\"]] = int(line[\"Size\"]) # Note: Size is uncompressed\n",
    "print(f\"Total = {sum(page_sizes.values())} bytes\")"
   ]
  },
  {
   "cell_type": "code",
   "execution_count": 191,
   "metadata": {},
   "outputs": [
    {
     "name": "stdout",
     "output_type": "stream",
     "text": [
      "Total = 67609330 bytes\n"
     ]
    }
   ],
   "source": [
    "single_page_compressed_size = {}\n",
    "with open(\"brotli_sizes.csv\",\"r\") as f:\n",
    "    reader = csv.DictReader(f)\n",
    "    for line in reader:\n",
    "        single_page_compressed_size[line[\"Page\"]] = int(line[\"Size\"]) \n",
    "print(f\"Total = {sum(single_page_compressed_size.values())} bytes\")"
   ]
  },
  {
   "cell_type": "code",
   "execution_count": 192,
   "metadata": {},
   "outputs": [
    {
     "name": "stdout",
     "output_type": "stream",
     "text": [
      "297\n"
     ]
    }
   ],
   "source": [
    "POPULAR_FILES = set()\n",
    "total = 0\n",
    "for file in sorted(page_views, key=lambda pg: page_views[pg], reverse=True):\n",
    "    size = single_page_compressed_size[file]\n",
    "    if total + size <= DISK_SIZE:\n",
    "        total += size \n",
    "        POPULAR_FILES.add(file)\n",
    "print(len(POPULAR_FILES))"
   ]
  },
  {
   "cell_type": "code",
   "execution_count": 193,
   "metadata": {},
   "outputs": [
    {
     "name": "stdout",
     "output_type": "stream",
     "text": [
      "567\n"
     ]
    }
   ],
   "source": [
    "SMALLEST_FILES = set()\n",
    "total = 0\n",
    "for file, size in sorted(single_page_compressed_size.items(), key=lambda x: x[1]):\n",
    "    if total + size  <= DISK_SIZE:\n",
    "        total += size \n",
    "        SMALLEST_FILES.add(file)\n",
    "print(len(SMALLEST_FILES))"
   ]
  },
  {
   "cell_type": "code",
   "execution_count": 194,
   "metadata": {},
   "outputs": [
    {
     "name": "stdout",
     "output_type": "stream",
     "text": [
      "130\n"
     ]
    }
   ],
   "source": [
    "LARGEST_FILES = set()\n",
    "total = 0\n",
    "for file, size in sorted(single_page_compressed_size.items(), key=lambda x: x[1], reverse=True):\n",
    "    if total + size <= DISK_SIZE:\n",
    "        total += size \n",
    "        LARGEST_FILES.add(file)\n",
    "print(len(LARGEST_FILES))"
   ]
  },
  {
   "cell_type": "code",
   "execution_count": 195,
   "metadata": {},
   "outputs": [
    {
     "name": "stdout",
     "output_type": "stream",
     "text": [
      "512\n"
     ]
    }
   ],
   "source": [
    "# Max 7z compression = int(page_sizes[file] / 10.75)\n",
    "values = [page_views[page] for page in sorted(page_views)]\n",
    "weights = [[single_page_compressed_size[page] for page in sorted(page_views)]] \n",
    "capacity = [DISK_SIZE]\n",
    "\n",
    "solver = pywrapknapsack_solver.KnapsackSolver(\n",
    "    pywrapknapsack_solver.KnapsackSolver.KNAPSACK_MULTIDIMENSION_BRANCH_AND_BOUND_SOLVER, \"Disk\"\n",
    ")\n",
    "\n",
    "solver.Init(values,weights,capacity)\n",
    "ans = solver.Solve()\n",
    "\n",
    "DISK_KNAPSACK = {\n",
    "    file\n",
    "    for i, file in enumerate(sorted(page_views))\n",
    "    if solver.BestSolutionContains(i)\n",
    "}\n",
    "print(len(DISK_KNAPSACK))"
   ]
  },
  {
   "cell_type": "code",
   "execution_count": 196,
   "metadata": {},
   "outputs": [],
   "source": [
    "ZIP_FILES = DISK_KNAPSACK"
   ]
  },
  {
   "cell_type": "code",
   "execution_count": 197,
   "metadata": {},
   "outputs": [
    {
     "name": "stdout",
     "output_type": "stream",
     "text": [
      "293\n"
     ]
    }
   ],
   "source": [
    "RAM_SMALLEST = set()\n",
    "total = 0\n",
    "for file, size in sorted(single_page_compressed_size.items(), key=lambda x: x[1]):\n",
    "    if file in ZIP_FILES: continue\n",
    "    if total + size <= RAM_SIZE:\n",
    "        total += size\n",
    "        RAM_SMALLEST.add(file)\n",
    "print(len(RAM_SMALLEST))\n"
   ]
  },
  {
   "cell_type": "code",
   "execution_count": 198,
   "metadata": {},
   "outputs": [
    {
     "name": "stdout",
     "output_type": "stream",
     "text": [
      "181\n"
     ]
    }
   ],
   "source": [
    "RAM_POPULAR = set()\n",
    "total = 0\n",
    "for file, size in sorted(single_page_compressed_size.items(), key=lambda x: page_views[x[0]], reverse=True):\n",
    "    if file in ZIP_FILES: continue\n",
    "    if total + size <= RAM_SIZE:\n",
    "        total += size\n",
    "        RAM_POPULAR.add(file)\n",
    "print(len(RAM_POPULAR))"
   ]
  },
  {
   "cell_type": "code",
   "execution_count": 199,
   "metadata": {},
   "outputs": [
    {
     "name": "stdout",
     "output_type": "stream",
     "text": [
      "271\n"
     ]
    }
   ],
   "source": [
    "remaining = list(page for page in sorted(page_views)\n",
    "                 if page not in DISK_KNAPSACK)\n",
    "values = [page_views[page] for page in remaining]\n",
    "weights = [[single_page_compressed_size[page] for page in remaining]]\n",
    "capacity = [RAM_SIZE]\n",
    "\n",
    "solver = pywrapknapsack_solver.KnapsackSolver(\n",
    "    pywrapknapsack_solver.KnapsackSolver.\n",
    "    KNAPSACK_MULTIDIMENSION_BRANCH_AND_BOUND_SOLVER, \"RAM1\")\n",
    "\n",
    "solver.Init(values, weights, capacity)\n",
    "ans = solver.Solve()\n",
    "\n",
    "RAM_KNAPSACK = {\n",
    "    file\n",
    "    for i, file in enumerate(remaining) if solver.BestSolutionContains(i)\n",
    "}\n",
    "print(len(RAM_KNAPSACK))"
   ]
  },
  {
   "cell_type": "code",
   "execution_count": 200,
   "metadata": {},
   "outputs": [],
   "source": [
    "class CacheStrategy:\n",
    "\n",
    "    def __init__(self, max_size=0) -> None:\n",
    "        self.max_size = max_size\n",
    "        self.cache = {}\n",
    "        self.size = 0\n",
    "        self.total_hits = 0\n",
    "        self.total_requests = 0\n",
    "\n",
    "    def get(self, key) -> Optional[str]:\n",
    "        self.total_requests += 1\n",
    "\n",
    "        on_disk = key in ZIP_FILES \n",
    "        on_ram = key in self.cache\n",
    "        self.total_hits += on_disk or on_ram\n",
    "\n",
    "        if on_disk or on_ram:\n",
    "            return True\n",
    "        else:\n",
    "            self.set(key, single_page_compressed_size[key])\n",
    "            return None\n",
    "\n",
    "    def set(self, key, size) -> None:\n",
    "        raise NotImplementedError"
   ]
  },
  {
   "cell_type": "code",
   "execution_count": 201,
   "metadata": {},
   "outputs": [],
   "source": [
    "class NoStrategy(CacheStrategy):\n",
    "\n",
    "    def set(self, key, value) -> None:\n",
    "        pass\n",
    "\n",
    "\n",
    "class CacheToolStrategy(CacheStrategy):\n",
    "\n",
    "    def __init__(self, max_size=inf, cachetools_strategy=None) -> None:\n",
    "        super().__init__()\n",
    "        self.max_size = max_size\n",
    "        self.cache = cachetools_strategy(maxsize=max_size)\n",
    "\n",
    "    def set(self, key, size) -> None:\n",
    "        while self.size + size > self.max_size and len(self.cache):\n",
    "            self.size -= self.cache.popitem()[1]\n",
    "        if self.size + size <= self.max_size:\n",
    "            self.cache[key] = size\n",
    "            self.size += size\n",
    "\n",
    "\n",
    "class PreloadCache(CacheStrategy):\n",
    "\n",
    "    def __init__(self, max_size=inf, preload_files=None) -> None:\n",
    "        super().__init__(max_size)\n",
    "        self.cache = {k: -1 for k in preload_files}\n",
    "\n",
    "    def set(self, key, size) -> None:\n",
    "        pass\n",
    "\n",
    "\n",
    "class PreloadWithEviction(CacheStrategy):\n",
    "\n",
    "    def __init__(self,\n",
    "                 max_size=inf,\n",
    "                 preload_files=None,\n",
    "                 cachetools_strategy=None) -> None:\n",
    "        super().__init__(max_size)\n",
    "        self.cache = cachetools_strategy(maxsize=max_size)\n",
    "        for f in preload_files:\n",
    "            self.cache[f] = single_page_compressed_size[f]\n",
    "        self.size = sum(self.cache.values())\n",
    "\n",
    "    def set(self, key, size) -> None:\n",
    "        while self.size + size > self.max_size and len(self.cache):\n",
    "            self.size -= self.cache.popitem()[1]\n",
    "        if self.size + size <= self.max_size:\n",
    "            self.cache[key] = size\n",
    "            self.size += size"
   ]
  },
  {
   "cell_type": "code",
   "execution_count": 202,
   "metadata": {},
   "outputs": [],
   "source": [
    "with_max_size = partial(CacheToolStrategy, max_size=RAM_SIZE)\n",
    "strategies = {\n",
    "    \"No cache\": NoStrategy(max_size=RAM_SIZE),\n",
    "    \"LRU\": with_max_size(cachetools_strategy=cachetools.LRUCache),\n",
    "    \"LFU\": with_max_size(cachetools_strategy=cachetools.LFUCache),\n",
    "    \"Preload Smallest\": PreloadCache(max_size=0,preload_files=RAM_SMALLEST),\n",
    "    \"Preload Popular\": PreloadCache(max_size=0,preload_files=RAM_POPULAR),\n",
    "    \"Preload Knapsack\": PreloadCache(max_size=0,preload_files=RAM_KNAPSACK),\n",
    "    \"LFU Preload Smallest\":PreloadWithEviction(max_size=RAM_SIZE,preload_files=RAM_SMALLEST,cachetools_strategy=cachetools.LFUCache),\n",
    "    \"LFU Preload Popular\":PreloadWithEviction(max_size=RAM_SIZE,preload_files=RAM_POPULAR,cachetools_strategy=cachetools.LFUCache),\n",
    "    \"LRU Preload Knapsack\":PreloadWithEviction(max_size=RAM_SIZE,preload_files=RAM_SMALLEST,cachetools_strategy=cachetools.LRUCache),\n",
    "    \"LFU Preload Knapsack\":PreloadWithEviction(max_size=RAM_SIZE,preload_files=RAM_KNAPSACK,cachetools_strategy=cachetools.LFUCache),\n",
    "    # \"FIFO\": with_max_size(cachetools_strategy=cachetools.FIFOCache),\n",
    "    # \"MRU\": with_max_size(cachetools_strategy=cachetools.MRUCache),\n",
    "    # \"RR\": with_max_size(cachetools_strategy=cachetools.RRCache),\n",
    "}"
   ]
  },
  {
   "cell_type": "code",
   "execution_count": 203,
   "metadata": {},
   "outputs": [
    {
     "name": "stdout",
     "output_type": "stream",
     "text": [
      "No cache hit rate: 0.74943\n",
      "LRU hit rate: 0.86311\n",
      "LFU hit rate: 0.86311\n",
      "Preload Smallest hit rate: 0.888167\n",
      "Preload Popular hit rate: 0.876184\n",
      "Preload Knapsack hit rate: 0.902507\n",
      "LFU Preload Smallest hit rate: 0.887406\n",
      "LFU Preload Popular hit rate: 0.875418\n",
      "LRU Preload Knapsack hit rate: 0.863201\n",
      "LFU Preload Knapsack hit rate: 0.901514\n"
     ]
    }
   ],
   "source": [
    "SEQUENCE_SIZE = 10**6\n",
    "articles = list(page_views.keys())\n",
    "views = [page_views[article] for article in articles]\n",
    "sequence = random.choices(population=articles, weights=views, k=SEQUENCE_SIZE)\n",
    "\n",
    "for article in sequence:\n",
    "    for strategy in strategies.values():\n",
    "        strategy.get(article)\n",
    "\n",
    "for name, obj in strategies.items():\n",
    "    print(f\"{name} hit rate: {obj.total_hits / obj.total_requests}\")"
   ]
  },
  {
   "cell_type": "code",
   "execution_count": 204,
   "metadata": {},
   "outputs": [],
   "source": [
    "with open(\"disk_files.txt\",\"w\") as f:\n",
    "    print(*sorted(DISK_KNAPSACK), sep=\"\\n\",file=f)\n",
    "with open(\"preload_files.txt\",\"w\") as f:\n",
    "    print(*sorted(RAM_KNAPSACK), sep=\"\\n\",file=f)"
   ]
  }
 ],
 "metadata": {
  "kernelspec": {
   "display_name": "venv",
   "language": "python",
   "name": "python3"
  },
  "language_info": {
   "codemirror_mode": {
    "name": "ipython",
    "version": 3
   },
   "file_extension": ".py",
   "mimetype": "text/x-python",
   "name": "python",
   "nbconvert_exporter": "python",
   "pygments_lexer": "ipython3",
   "version": "3.10.6"
  },
  "orig_nbformat": 4,
  "vscode": {
   "interpreter": {
    "hash": "8f157ff551d21e5d4e210cef0e27e77c968b2aed8534a945db0e453021cf593e"
   }
  }
 },
 "nbformat": 4,
 "nbformat_minor": 2
}

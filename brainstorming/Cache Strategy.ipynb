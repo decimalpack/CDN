{
 "cells": [
  {
   "cell_type": "code",
   "execution_count": 187,
   "metadata": {},
   "outputs": [],
   "source": [
    "import random\n",
    "import csv\n",
    "from typing import Optional\n",
    "import cachetools\n",
    "from math import inf\n",
    "from functools import partial\n",
    "\n",
    "random.seed(42)\n",
    "\n",
    "RAM_SIZE = 20 * 1024 * 1024 \n",
    "DISK_SIZE = 20 * 1024 * 1024 "
   ]
  },
  {
   "cell_type": "code",
   "execution_count": 188,
   "metadata": {},
   "outputs": [],
   "source": [
    "page_views={}\n",
    "with open(\"pageviews.csv\", \"r\") as f:\n",
    "    reader = csv.DictReader(f)\n",
    "    for line in reader:\n",
    "        page_views[line[\"article\"].replace(\" \",\"_\")] = int(line[\"views\"])\n",
    "del page_views[\".xxx\"] # Not found - causes conflicts so yeet"
   ]
  },
  {
   "cell_type": "code",
   "execution_count": 189,
   "metadata": {},
   "outputs": [
    {
     "name": "stdout",
     "output_type": "stream",
     "text": [
      "Total = 468900428 bytes\n"
     ]
    }
   ],
   "source": [
    "page_sizes = {}\n",
    "with open(\"page_size.csv\",\"r\") as f:\n",
    "    reader = csv.DictReader(f)\n",
    "    for line in reader:\n",
    "        page_sizes[line[\"Article\"]] = int(line[\"Size\"]) # Note: Size is uncompressed\n",
    "print(f\"Total = {sum(page_sizes.values())} bytes\")"
   ]
  },
  {
   "cell_type": "code",
   "execution_count": 190,
   "metadata": {},
   "outputs": [
    {
     "name": "stdout",
     "output_type": "stream",
     "text": [
      "434\n"
     ]
    }
   ],
   "source": [
    "POPULAR_FILES = set()\n",
    "total = 0\n",
    "for file in sorted(page_views, key=lambda pg: page_views[pg], reverse=True):\n",
    "    size = page_sizes[file]\n",
    "    if total + size // 10 <= DISK_SIZE:\n",
    "        total += size // 10\n",
    "        POPULAR_FILES.add(file)\n",
    "print(len(POPULAR_FILES))"
   ]
  },
  {
   "cell_type": "code",
   "execution_count": 191,
   "metadata": {},
   "outputs": [
    {
     "name": "stdout",
     "output_type": "stream",
     "text": [
      "714\n"
     ]
    }
   ],
   "source": [
    "SMALLEST_FILES = set()\n",
    "total = 0\n",
    "for file, size in sorted(page_sizes.items(), key=lambda x: x[1]):\n",
    "    if total + size // 10 <= DISK_SIZE:\n",
    "        total += size // 10\n",
    "        SMALLEST_FILES.add(file)\n",
    "print(len(SMALLEST_FILES))"
   ]
  },
  {
   "cell_type": "code",
   "execution_count": 192,
   "metadata": {},
   "outputs": [
    {
     "name": "stdout",
     "output_type": "stream",
     "text": [
      "203\n"
     ]
    }
   ],
   "source": [
    "LARGEST_FILES = set()\n",
    "total = 0\n",
    "for file, size in sorted(page_sizes.items(), key=lambda x: x[1], reverse=True):\n",
    "    if total + size // 10 <= DISK_SIZE:\n",
    "        total += size // 10\n",
    "        LARGEST_FILES.add(file)\n",
    "print(len(LARGEST_FILES))"
   ]
  },
  {
   "cell_type": "code",
   "execution_count": 193,
   "metadata": {},
   "outputs": [],
   "source": [
    "from ortools.algorithms import pywrapknapsack_solver\n",
    "# TODO: Knapsack it\n",
    "values = [page_views[page] for page in sorted(page_views)]\n",
    "weights = [[page_sizes[page]//10 for page in sorted(page_views)]]\n",
    "capacity = [DISK_SIZE]\n",
    "\n",
    "solver = pywrapknapsack_solver.KnapsackSolver(\n",
    "    pywrapknapsack_solver.KnapsackSolver.KNAPSACK_MULTIDIMENSION_BRANCH_AND_BOUND_SOLVER, \"PageKnapsack\"\n",
    ")\n",
    "\n",
    "solver.Init(values,weights,capacity)\n",
    "ans = solver.Solve()\n"
   ]
  },
  {
   "cell_type": "code",
   "execution_count": 194,
   "metadata": {},
   "outputs": [
    {
     "data": {
      "text/plain": [
       "679"
      ]
     },
     "execution_count": 194,
     "metadata": {},
     "output_type": "execute_result"
    }
   ],
   "source": [
    "KNAPSACK_FILES = {\n",
    "    file\n",
    "    for i, file in enumerate(sorted(page_views))\n",
    "    if solver.BestSolutionContains(i)\n",
    "}\n",
    "len(KNAPSACK_FILES)"
   ]
  },
  {
   "cell_type": "code",
   "execution_count": 195,
   "metadata": {},
   "outputs": [],
   "source": [
    "ZIP_FILE = KNAPSACK_FILES\n",
    "\n",
    "\n",
    "class CacheStrategy:\n",
    "\n",
    "    def __init__(self, max_size=0, page_sizes=page_sizes) -> None:\n",
    "        self.max_size = max_size\n",
    "        self.cache = {}\n",
    "        self.size = 0\n",
    "        self.total_hits = 0\n",
    "        self.total_requests = 0\n",
    "        self.page_sizes = page_sizes\n",
    "\n",
    "    def get(self, key) -> Optional[str]:\n",
    "        self.total_requests += 1\n",
    "\n",
    "        in_cache = key in ZIP_FILE or key in self.cache\n",
    "        self.total_hits += in_cache\n",
    "\n",
    "        if key in ZIP_FILE:\n",
    "            return True\n",
    "        if key in self.cache:\n",
    "            return self.cache.get(key)\n",
    "        else:\n",
    "            self.set(key, self.page_sizes[key])\n",
    "            return None\n",
    "\n",
    "    def set(self, key, size) -> None:\n",
    "        raise NotImplementedError"
   ]
  },
  {
   "cell_type": "code",
   "execution_count": 196,
   "metadata": {},
   "outputs": [],
   "source": [
    "class NoStrategy(CacheStrategy):\n",
    "    def set(self, key, value) -> None:\n",
    "        pass\n",
    "\n",
    "\n",
    "class CacheToolStrategy(CacheStrategy):\n",
    "\n",
    "    def __init__(self, max_size=inf, cachetools_strategy=None) -> None:\n",
    "        super().__init__()\n",
    "        self.max_size = max_size\n",
    "        self.cache = cachetools_strategy(maxsize=max_size)\n",
    "\n",
    "    def set(self, key, size) -> None:\n",
    "        while self.size + size > self.max_size and len(self.cache):\n",
    "            self.size -= self.cache.popitem()[1]\n",
    "        if self.size + size <= self.max_size:\n",
    "            self.cache[key] = size\n",
    "            self.size += size\n",
    "\n",
    "\n",
    "# TODO: Prefetching Cache"
   ]
  },
  {
   "cell_type": "code",
   "execution_count": 197,
   "metadata": {},
   "outputs": [],
   "source": [
    "with_max_size = partial(CacheToolStrategy, max_size=RAM_SIZE)\n",
    "strategies = {\n",
    "    \"No cache\": NoStrategy(max_size=RAM_SIZE),\n",
    "    \"LRU\": with_max_size(cachetools_strategy=cachetools.LRUCache),\n",
    "    \"LFU\": with_max_size(cachetools_strategy=cachetools.LFUCache),\n",
    "    # \"FIFO\": with_max_size(cachetools_strategy=cachetools.FIFOCache),\n",
    "    # \"MRU\": with_max_size(cachetools_strategy=cachetools.MRUCache),\n",
    "    # \"RR\": with_max_size(cachetools_strategy=cachetools.RRCache),\n",
    "}"
   ]
  },
  {
   "cell_type": "code",
   "execution_count": 198,
   "metadata": {},
   "outputs": [
    {
     "name": "stdout",
     "output_type": "stream",
     "text": [
      "No cache hit rate: 0.842694\n",
      "LRU hit rate: 0.855867\n",
      "LFU hit rate: 0.855719\n"
     ]
    }
   ],
   "source": [
    "SEQUENCE_SIZE = 10**6\n",
    "articles = list(page_views.keys())\n",
    "views = [page_views[article] for article in articles]\n",
    "sequence = random.choices(population=articles, weights=views, k=SEQUENCE_SIZE)\n",
    "\n",
    "for article in sequence:\n",
    "    for strategy in strategies.values():\n",
    "        strategy.get(article)\n",
    "\n",
    "for name, obj in strategies.items():\n",
    "    print(f\"{name} hit rate: {obj.total_hits / obj.total_requests}\")"
   ]
  }
 ],
 "metadata": {
  "kernelspec": {
   "display_name": "venv",
   "language": "python",
   "name": "python3"
  },
  "language_info": {
   "codemirror_mode": {
    "name": "ipython",
    "version": 3
   },
   "file_extension": ".py",
   "mimetype": "text/x-python",
   "name": "python",
   "nbconvert_exporter": "python",
   "pygments_lexer": "ipython3",
   "version": "3.10.6"
  },
  "orig_nbformat": 4,
  "vscode": {
   "interpreter": {
    "hash": "8f157ff551d21e5d4e210cef0e27e77c968b2aed8534a945db0e453021cf593e"
   }
  }
 },
 "nbformat": 4,
 "nbformat_minor": 2
}
